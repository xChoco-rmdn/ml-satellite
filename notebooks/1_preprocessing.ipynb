{
  "cells": [
    {
      "cell_type": "markdown",
      "metadata": {
        "id": "CxFEjKXpR581"
      },
      "source": [
        "# Satellite Image Preprocessing\n",
        "\n",
        "This notebook handles all preprocessing steps for satellite imagery data including:\n",
        "- Data loading and validation\n",
        "- Image normalization\n",
        "- Data augmentation\n",
        "- Feature extraction\n",
        "- Data splitting"
      ]
    },
    {
      "cell_type": "code",
      "source": [
        "from google.colab import drive\n",
        "drive.mount('/content/drive')"
      ],
      "metadata": {
        "id": "8arBLbGySEUo",
        "outputId": "89604c25-4473-4060-d996-8ba54cfbfd4d",
        "colab": {
          "base_uri": "https://localhost:8080/"
        }
      },
      "execution_count": 4,
      "outputs": [
        {
          "output_type": "stream",
          "name": "stdout",
          "text": [
            "Mounted at /content/drive\n"
          ]
        }
      ]
    },
    {
      "cell_type": "code",
      "source": [
        "!pip install satpy"
      ],
      "metadata": {
        "collapsed": true,
        "id": "TPHub1rkSyPZ",
        "outputId": "a22d739d-b33a-46e1-f61e-db39da97a605",
        "colab": {
          "base_uri": "https://localhost:8080/"
        }
      },
      "execution_count": 6,
      "outputs": [
        {
          "output_type": "stream",
          "name": "stdout",
          "text": [
            "Collecting satpy\n",
            "  Downloading satpy-0.56.0-py3-none-any.whl.metadata (11 kB)\n",
            "Requirement already satisfied: dask>=0.17.1 in /usr/local/lib/python3.11/dist-packages (from dask[array]>=0.17.1->satpy) (2024.12.1)\n",
            "Collecting donfig (from satpy)\n",
            "  Downloading donfig-0.8.1.post1-py3-none-any.whl.metadata (5.0 kB)\n",
            "Requirement already satisfied: numpy>=1.21 in /usr/local/lib/python3.11/dist-packages (from satpy) (2.0.2)\n",
            "Requirement already satisfied: packaging in /usr/local/lib/python3.11/dist-packages (from satpy) (24.2)\n",
            "Requirement already satisfied: pillow in /usr/local/lib/python3.11/dist-packages (from satpy) (11.2.1)\n",
            "Requirement already satisfied: platformdirs in /usr/local/lib/python3.11/dist-packages (from satpy) (4.3.8)\n",
            "Requirement already satisfied: pooch in /usr/local/lib/python3.11/dist-packages (from satpy) (1.8.2)\n",
            "Collecting pykdtree (from satpy)\n",
            "  Downloading pykdtree-1.4.1-cp311-cp311-manylinux_2_17_x86_64.manylinux2014_x86_64.whl.metadata (8.8 kB)\n",
            "Collecting pyorbital (from satpy)\n",
            "  Downloading pyorbital-1.10.1-py3-none-any.whl.metadata (42 kB)\n",
            "\u001b[2K     \u001b[90m━━━━━━━━━━━━━━━━━━━━━━━━━━━━━━━━━━━━━━━━\u001b[0m \u001b[32m42.4/42.4 kB\u001b[0m \u001b[31m1.7 MB/s\u001b[0m eta \u001b[36m0:00:00\u001b[0m\n",
            "\u001b[?25hRequirement already satisfied: pyproj>=2.2 in /usr/local/lib/python3.11/dist-packages (from satpy) (3.7.1)\n",
            "Collecting pyresample>=1.24.0 (from satpy)\n",
            "  Downloading pyresample-1.34.0-cp311-cp311-manylinux_2_17_x86_64.manylinux2014_x86_64.whl.metadata (4.9 kB)\n",
            "Requirement already satisfied: pyyaml>=5.1 in /usr/local/lib/python3.11/dist-packages (from satpy) (6.0.2)\n",
            "Collecting trollimage>=1.24 (from satpy)\n",
            "  Downloading trollimage-1.26.0-cp311-cp311-manylinux_2_17_x86_64.manylinux2014_x86_64.whl.metadata (1.6 kB)\n",
            "Collecting trollsift (from satpy)\n",
            "  Downloading trollsift-0.5.3-py3-none-any.whl.metadata (780 bytes)\n",
            "Requirement already satisfied: xarray>=0.14.1 in /usr/local/lib/python3.11/dist-packages (from satpy) (2025.3.1)\n",
            "Collecting zarr (from satpy)\n",
            "  Downloading zarr-3.0.7-py3-none-any.whl.metadata (9.9 kB)\n",
            "Requirement already satisfied: click>=8.1 in /usr/local/lib/python3.11/dist-packages (from dask>=0.17.1->dask[array]>=0.17.1->satpy) (8.2.0)\n",
            "Requirement already satisfied: cloudpickle>=3.0.0 in /usr/local/lib/python3.11/dist-packages (from dask>=0.17.1->dask[array]>=0.17.1->satpy) (3.1.1)\n",
            "Requirement already satisfied: fsspec>=2021.09.0 in /usr/local/lib/python3.11/dist-packages (from dask>=0.17.1->dask[array]>=0.17.1->satpy) (2025.3.2)\n",
            "Requirement already satisfied: partd>=1.4.0 in /usr/local/lib/python3.11/dist-packages (from dask>=0.17.1->dask[array]>=0.17.1->satpy) (1.4.2)\n",
            "Requirement already satisfied: toolz>=0.10.0 in /usr/local/lib/python3.11/dist-packages (from dask>=0.17.1->dask[array]>=0.17.1->satpy) (0.12.1)\n",
            "Requirement already satisfied: importlib_metadata>=4.13.0 in /usr/local/lib/python3.11/dist-packages (from dask>=0.17.1->dask[array]>=0.17.1->satpy) (8.7.0)\n",
            "Requirement already satisfied: certifi in /usr/local/lib/python3.11/dist-packages (from pyproj>=2.2->satpy) (2025.4.26)\n",
            "Collecting configobj (from pyresample>=1.24.0->satpy)\n",
            "  Downloading configobj-5.0.9-py2.py3-none-any.whl.metadata (3.2 kB)\n",
            "Requirement already satisfied: shapely in /usr/local/lib/python3.11/dist-packages (from pyresample>=1.24.0->satpy) (2.1.0)\n",
            "Requirement already satisfied: pandas>=2.1 in /usr/local/lib/python3.11/dist-packages (from xarray>=0.14.1->satpy) (2.2.2)\n",
            "Requirement already satisfied: requests>=2.19.0 in /usr/local/lib/python3.11/dist-packages (from pooch->satpy) (2.32.3)\n",
            "Requirement already satisfied: defusedxml in /usr/local/lib/python3.11/dist-packages (from pyorbital->satpy) (0.7.1)\n",
            "Requirement already satisfied: scipy in /usr/local/lib/python3.11/dist-packages (from pyorbital->satpy) (1.15.3)\n",
            "Collecting numcodecs>=0.14 (from numcodecs[crc32c]>=0.14->zarr->satpy)\n",
            "  Downloading numcodecs-0.16.0-cp311-cp311-manylinux_2_17_x86_64.manylinux2014_x86_64.whl.metadata (3.0 kB)\n",
            "Requirement already satisfied: typing-extensions>=4.9 in /usr/local/lib/python3.11/dist-packages (from zarr->satpy) (4.13.2)\n",
            "Requirement already satisfied: zipp>=3.20 in /usr/local/lib/python3.11/dist-packages (from importlib_metadata>=4.13.0->dask>=0.17.1->dask[array]>=0.17.1->satpy) (3.21.0)\n",
            "Collecting crc32c>=2.7 (from numcodecs[crc32c]>=0.14->zarr->satpy)\n",
            "  Downloading crc32c-2.7.1-cp311-cp311-manylinux_2_5_x86_64.manylinux1_x86_64.manylinux_2_17_x86_64.manylinux2014_x86_64.whl.metadata (7.3 kB)\n",
            "Requirement already satisfied: python-dateutil>=2.8.2 in /usr/local/lib/python3.11/dist-packages (from pandas>=2.1->xarray>=0.14.1->satpy) (2.9.0.post0)\n",
            "Requirement already satisfied: pytz>=2020.1 in /usr/local/lib/python3.11/dist-packages (from pandas>=2.1->xarray>=0.14.1->satpy) (2025.2)\n",
            "Requirement already satisfied: tzdata>=2022.7 in /usr/local/lib/python3.11/dist-packages (from pandas>=2.1->xarray>=0.14.1->satpy) (2025.2)\n",
            "Requirement already satisfied: locket in /usr/local/lib/python3.11/dist-packages (from partd>=1.4.0->dask>=0.17.1->dask[array]>=0.17.1->satpy) (1.0.0)\n",
            "Requirement already satisfied: charset-normalizer<4,>=2 in /usr/local/lib/python3.11/dist-packages (from requests>=2.19.0->pooch->satpy) (3.4.2)\n",
            "Requirement already satisfied: idna<4,>=2.5 in /usr/local/lib/python3.11/dist-packages (from requests>=2.19.0->pooch->satpy) (3.10)\n",
            "Requirement already satisfied: urllib3<3,>=1.21.1 in /usr/local/lib/python3.11/dist-packages (from requests>=2.19.0->pooch->satpy) (2.4.0)\n",
            "Requirement already satisfied: six>=1.5 in /usr/local/lib/python3.11/dist-packages (from python-dateutil>=2.8.2->pandas>=2.1->xarray>=0.14.1->satpy) (1.17.0)\n",
            "Downloading satpy-0.56.0-py3-none-any.whl (1.8 MB)\n",
            "\u001b[2K   \u001b[90m━━━━━━━━━━━━━━━━━━━━━━━━━━━━━━━━━━━━━━━━\u001b[0m \u001b[32m1.8/1.8 MB\u001b[0m \u001b[31m26.2 MB/s\u001b[0m eta \u001b[36m0:00:00\u001b[0m\n",
            "\u001b[?25hDownloading pyresample-1.34.0-cp311-cp311-manylinux_2_17_x86_64.manylinux2014_x86_64.whl (4.6 MB)\n",
            "\u001b[2K   \u001b[90m━━━━━━━━━━━━━━━━━━━━━━━━━━━━━━━━━━━━━━━━\u001b[0m \u001b[32m4.6/4.6 MB\u001b[0m \u001b[31m96.3 MB/s\u001b[0m eta \u001b[36m0:00:00\u001b[0m\n",
            "\u001b[?25hDownloading pykdtree-1.4.1-cp311-cp311-manylinux_2_17_x86_64.manylinux2014_x86_64.whl (398 kB)\n",
            "\u001b[2K   \u001b[90m━━━━━━━━━━━━━━━━━━━━━━━━━━━━━━━━━━━━━━━━\u001b[0m \u001b[32m398.3/398.3 kB\u001b[0m \u001b[31m30.0 MB/s\u001b[0m eta \u001b[36m0:00:00\u001b[0m\n",
            "\u001b[?25hDownloading trollimage-1.26.0-cp311-cp311-manylinux_2_17_x86_64.manylinux2014_x86_64.whl (658 kB)\n",
            "\u001b[2K   \u001b[90m━━━━━━━━━━━━━━━━━━━━━━━━━━━━━━━━━━━━━━━━\u001b[0m \u001b[32m658.4/658.4 kB\u001b[0m \u001b[31m46.3 MB/s\u001b[0m eta \u001b[36m0:00:00\u001b[0m\n",
            "\u001b[?25hDownloading donfig-0.8.1.post1-py3-none-any.whl (21 kB)\n",
            "Downloading pyorbital-1.10.1-py3-none-any.whl (118 kB)\n",
            "\u001b[2K   \u001b[90m━━━━━━━━━━━━━━━━━━━━━━━━━━━━━━━━━━━━━━━━\u001b[0m \u001b[32m118.3/118.3 kB\u001b[0m \u001b[31m8.9 MB/s\u001b[0m eta \u001b[36m0:00:00\u001b[0m\n",
            "\u001b[?25hDownloading trollsift-0.5.3-py3-none-any.whl (32 kB)\n",
            "Downloading zarr-3.0.7-py3-none-any.whl (203 kB)\n",
            "\u001b[2K   \u001b[90m━━━━━━━━━━━━━━━━━━━━━━━━━━━━━━━━━━━━━━━━\u001b[0m \u001b[32m203.9/203.9 kB\u001b[0m \u001b[31m17.0 MB/s\u001b[0m eta \u001b[36m0:00:00\u001b[0m\n",
            "\u001b[?25hDownloading numcodecs-0.16.0-cp311-cp311-manylinux_2_17_x86_64.manylinux2014_x86_64.whl (8.8 MB)\n",
            "\u001b[2K   \u001b[90m━━━━━━━━━━━━━━━━━━━━━━━━━━━━━━━━━━━━━━━━\u001b[0m \u001b[32m8.8/8.8 MB\u001b[0m \u001b[31m104.2 MB/s\u001b[0m eta \u001b[36m0:00:00\u001b[0m\n",
            "\u001b[?25hDownloading configobj-5.0.9-py2.py3-none-any.whl (35 kB)\n",
            "Downloading crc32c-2.7.1-cp311-cp311-manylinux_2_5_x86_64.manylinux1_x86_64.manylinux_2_17_x86_64.manylinux2014_x86_64.whl (53 kB)\n",
            "\u001b[2K   \u001b[90m━━━━━━━━━━━━━━━━━━━━━━━━━━━━━━━━━━━━━━━━\u001b[0m \u001b[32m53.7/53.7 kB\u001b[0m \u001b[31m4.9 MB/s\u001b[0m eta \u001b[36m0:00:00\u001b[0m\n",
            "\u001b[?25hInstalling collected packages: trollsift, trollimage, pykdtree, numcodecs, donfig, crc32c, configobj, pyresample, pyorbital, zarr, satpy\n",
            "Successfully installed configobj-5.0.9 crc32c-2.7.1 donfig-0.8.1.post1 numcodecs-0.16.0 pykdtree-1.4.1 pyorbital-1.10.1 pyresample-1.34.0 satpy-0.56.0 trollimage-1.26.0 trollsift-0.5.3 zarr-3.0.7\n"
          ]
        }
      ]
    },
    {
      "cell_type": "code",
      "execution_count": 7,
      "metadata": {
        "id": "RjFz4lIfR582"
      },
      "source": [
        "# Import necessary libraries\n",
        "import numpy as np\n",
        "import pandas as pd\n",
        "import matplotlib.pyplot as plt\n",
        "import seaborn as sns\n",
        "from pathlib import Path\n",
        "import xarray as xr\n",
        "import satpy\n",
        "from datetime import datetime\n",
        "import cv2\n",
        "from sklearn.model_selection import train_test_split\n",
        "\n",
        "# Set random seed for reproducibility\n",
        "np.random.seed(42)"
      ],
      "outputs": []
    },
    {
      "cell_type": "markdown",
      "metadata": {
        "id": "HjsPU2gvR583"
      },
      "source": [
        "## 1. Data Loading and Exploration"
      ]
    },
    {
      "cell_type": "code",
      "execution_count": null,
      "metadata": {
        "id": "xqQ0W7bqR583"
      },
      "source": [
        "# Define data paths\n",
        "DATA_DIR = Path('../data')\n",
        "\n",
        "def load_satellite_data(data_dir):\n",
        "    \"\"\"\n",
        "    Load satellite imagery data from the specified directory\n",
        "\n",
        "    Args:\n",
        "        data_dir (Path): Directory containing satellite image files\n",
        "\n",
        "    Returns:\n",
        "        dict: Loaded satellite imagery data\n",
        "    \"\"\"\n",
        "    # Placeholder for actual data loading logic\n",
        "    # This might involve using satpy or other satellite data libraries\n",
        "    images = []\n",
        "    labels = []\n",
        "\n",
        "    for img_path in data_dir.glob('*.tif'):  # Adjust file extension as needed\n",
        "        try:\n",
        "            # Load image\n",
        "            img = cv2.imread(str(img_path))\n",
        "            images.append(img)\n",
        "\n",
        "            # Extract label (example: filename-based labeling)\n",
        "            label = img_path.stem.split('_')[0]  # Adjust based on your naming convention\n",
        "            labels.append(label)\n",
        "        except Exception as e:\n",
        "            print(f\"Error loading {img_path}: {e}\")\n",
        "\n",
        "    return {\n",
        "        'images': np.array(images),\n",
        "        'labels': np.array(labels)\n",
        "    }\n",
        "\n",
        "# Load satellite data\n",
        "satellite_data = load_satellite_data(DATA_DIR)\n",
        "\n",
        "# Basic data exploration\n",
        "print(\"Total images:\", len(satellite_data['images']))\n",
        "print(\"Image shape:\", satellite_data['images'][0].shape)\n",
        "print(\"Unique labels:\", np.unique(satellite_data['labels']))"
      ],
      "outputs": []
    },
    {
      "cell_type": "markdown",
      "metadata": {
        "id": "oRNgivFtR583"
      },
      "source": [
        "## 2. Data Preprocessing"
      ]
    },
    {
      "cell_type": "code",
      "execution_count": null,
      "metadata": {
        "id": "qg5H87HaR583"
      },
      "source": [
        "def preprocess_images(images, target_size=(224, 224)):\n",
        "    \"\"\"\n",
        "    Preprocess satellite images\n",
        "\n",
        "    Args:\n",
        "        images (np.ndarray): Input images\n",
        "        target_size (tuple): Desired output image size\n",
        "\n",
        "    Returns:\n",
        "        np.ndarray: Preprocessed images\n",
        "    \"\"\"\n",
        "    processed_images = []\n",
        "\n",
        "    for img in images:\n",
        "        # Resize image\n",
        "        resized = cv2.resize(img, target_size, interpolation=cv2.INTER_AREA)\n",
        "\n",
        "        # Normalize pixel values\n",
        "        normalized = resized.astype('float32') / 255.0\n",
        "\n",
        "        processed_images.append(normalized)\n",
        "\n",
        "    return np.array(processed_images)\n",
        "\n",
        "def augment_images(images):\n",
        "    \"\"\"\n",
        "    Apply data augmentation techniques\n",
        "\n",
        "    Args:\n",
        "        images (np.ndarray): Input images\n",
        "\n",
        "    Returns:\n",
        "        np.ndarray: Augmented images\n",
        "    \"\"\"\n",
        "    augmented_images = []\n",
        "\n",
        "    for img in images:\n",
        "        # Random horizontal flip\n",
        "        if np.random.rand() > 0.5:\n",
        "            img = cv2.flip(img, 1)\n",
        "\n",
        "        # Random rotation\n",
        "        angle = np.random.uniform(-15, 15)\n",
        "        rows, cols = img.shape[:2]\n",
        "        rotation_matrix = cv2.getRotationMatrix2D((cols/2, rows/2), angle, 1)\n",
        "        rotated = cv2.warpAffine(img, rotation_matrix, (cols, rows))\n",
        "\n",
        "        augmented_images.append(rotated)\n",
        "\n",
        "    return np.array(augmented_images)\n",
        "\n",
        "# Preprocess images\n",
        "processed_images = preprocess_images(satellite_data['images'])\n",
        "\n",
        "# Optional: Data augmentation\n",
        "augmented_images = augment_images(processed_images)"
      ],
      "outputs": []
    },
    {
      "cell_type": "markdown",
      "metadata": {
        "id": "WxqHjS43R583"
      },
      "source": [
        "## 3. Data Splitting"
      ]
    },
    {
      "cell_type": "code",
      "execution_count": null,
      "metadata": {
        "id": "N1j9b64oR583"
      },
      "source": [
        "# Perform train-validation-test split\n",
        "X_train, X_temp, y_train, y_temp = train_test_split(\n",
        "    processed_images,\n",
        "    satellite_data['labels'],\n",
        "    test_size=0.3,\n",
        "    random_state=42\n",
        ")\n",
        "\n",
        "# Split temp into validation and test sets\n",
        "X_val, X_test, y_val, y_test = train_test_split(\n",
        "    X_temp,\n",
        "    y_temp,\n",
        "    test_size=0.5,\n",
        "    random_state=42\n",
        ")\n",
        "\n",
        "# Print dataset sizes\n",
        "print(\"Training set:\", X_train.shape)\n",
        "print(\"Validation set:\", X_val.shape)\n",
        "print(\"Test set:\", X_test.shape)"
      ],
      "outputs": []
    },
    {
      "cell_type": "markdown",
      "metadata": {
        "id": "UWCFviJHR583"
      },
      "source": [
        "## 4. Save Preprocessed Data"
      ]
    },
    {
      "cell_type": "code",
      "execution_count": null,
      "metadata": {
        "id": "X0kGic1SR583"
      },
      "source": [
        "def save_preprocessed_data(X_train, X_val, X_test, y_train, y_val, y_test, output_dir):\n",
        "    \"\"\"\n",
        "    Save preprocessed data to numpy files\n",
        "\n",
        "    Args:\n",
        "        X_train, X_val, X_test: Image datasets\n",
        "        y_train, y_val, y_test: Label datasets\n",
        "        output_dir (Path): Directory to save preprocessed data\n",
        "    \"\"\"\n",
        "    output_dir = Path(output_dir)\n",
        "    output_dir.mkdir(parents=True, exist_ok=True)\n",
        "\n",
        "    # Save training data\n",
        "    np.save(output_dir / 'X_train.npy', X_train)\n",
        "    np.save(output_dir / 'y_train.npy', y_train)\n",
        "\n",
        "    # Save validation data\n",
        "    np.save(output_dir / 'X_val.npy', X_val)\n",
        "    np.save(output_dir / 'y_val.npy', y_val)\n",
        "\n",
        "    # Save test data\n",
        "    np.save(output_dir / 'X_test.npy', X_test)\n",
        "    np.save(output_dir / 'y_test.npy', y_test)\n",
        "\n",
        "    print(\"Preprocessed data saved successfully.\")\n",
        "\n",
        "# Save preprocessed data\n",
        "save_preprocessed_data(\n",
        "    X_train, X_val, X_test,\n",
        "    y_train, y_val, y_test,\n",
        "    output_dir='../processed_data'\n",
        ")"
      ],
      "outputs": []
    }
  ],
  "metadata": {
    "kernelspec": {
      "display_name": "Python 3",
      "name": "python3"
    },
    "language_info": {
      "codemirror_mode": {
        "name": "ipython",
        "version": 3
      },
      "file_extension": ".py",
      "mimetype": "text/x-python",
      "name": "python",
      "nbconvert_exporter": "python",
      "pygments_lexer": "ipython3",
      "version": "3.8.0"
    },
    "colab": {
      "provenance": [],
      "gpuType": "T4"
    },
    "accelerator": "GPU"
  },
  "nbformat": 4,
  "nbformat_minor": 0
}