{
<<<<<<< HEAD
 "cells": [
  {
   "cell_type": "markdown",
   "metadata": {},
   "source": [
    "# Satellite Image Preprocessing\n",
    "\n",
    "This notebook handles data ingestion and preprocessing using the project's pipeline system.\n",
    "It includes:\n",
    "- Data ingestion from Himawari satellite\n",
    "- Data validation and cleaning\n",
    "- Data transformation and normalization\n",
    "- Train/Test split"
   ]
  },
  {
   "cell_type": "code",
   "execution_count": null,
   "metadata": {},
   "outputs": [],
   "source": [
    "import os\n",
    "import sys\n",
    "import numpy as np\n",
    "import pandas as pd\n",
    "import matplotlib.pyplot as plt\n",
    "import seaborn as sns\n",
    "from datetime import datetime, timedelta\n",
    "import glob\n",
    "\n",
    "# Add project root to path\n",
    "sys.path.append('..')\n",
    "\n",
    "# Import project modules\n",
    "from src.components.data_ingestion import DataIngestion\n",
    "from src.components.data_transformations import DataTransformation\n",
    "from src.logger import logger\n",
    "from src.exception import CustomException\n",
    "\n",
    "# Configure logging and error handling\n",
    "logger.info(\"Starting data preprocessing pipeline\")"
   ]
  },
  {
   "cell_type": "markdown",
   "metadata": {},
   "source": [
    "## 1. Data Ingestion"
   ]
  },
  {
   "cell_type": "code",
   "execution_count": null,
   "metadata": {},
   "outputs": [],
   "source": [
    "def perform_data_ingestion(start_time, end_time):\n",
    "    \"\"\"\n",
    "    Perform data ingestion from Himawari satellite\n",
    "    \n",
    "    Args:\n",
    "        start_time (datetime): Start of data collection period\n",
    "        end_time (datetime): End of data collection period\n",
    "    \n",
    "    Returns:\n",
    "        dict: Paths to ingested data files\n",
    "    \"\"\"\n",
    "    try:\n",
    "        # Initialize data ingestion\n",
    "        data_ingestion = DataIngestion()\n",
    "        logger.info(f\"Fetching Himawari data from {start_time} to {end_time}\")\n",
    "        \n",
    "        # Fetch satellite data\n",
    "        satellite_files = data_ingestion.get_himawari_data(start_time, end_time)\n",
    "        \n",
    "        # Process and save the data\n",
    "        ingestion_result = data_ingestion.initiate_data_ingestion(satellite_files)\n",
    "        \n",
    "        logger.info(\"Data ingestion completed successfully\")\n",
    "        return ingestion_result\n",
    "    \n",
    "    except Exception as e:\n",
    "        logger.error(f\"Data ingestion failed: {e}\")\n",
    "        raise CustomException(e, sys)\n",
    "\n",
    "# Get Himawari data for a specific time range\n",
    "start_time = datetime(2025, 4, 1, 0, 0)  # Example start time\n",
    "end_time = datetime(2025, 5, 1, 0, 0)    # Example end time\n",
    "\n",
    "# Perform data ingestion\n",
    "ingestion_result = perform_data_ingestion(start_time, end_time)\n",
    "\n",
    "print(\"Data ingestion completed:\")\n",
    "print(f\"Train data saved at: {ingestion_result['train_file_path']}\")\n",
    "print(f\"Test data saved at: {ingestion_result['test_file_path']}\")"
   ]
  },
  {
   "cell_type": "markdown",
   "metadata": {},
   "source": [
    "## 2. Data Transformation"
   ]
  },
  {
   "cell_type": "code",
   "execution_count": null,
   "metadata": {},
   "outputs": [],
   "source": [
    "def perform_data_transformation(train_file_path, test_file_path):\n",
    "    \"\"\"\n",
    "    Perform data transformation and preprocessing\n",
    "    \n",
    "    Args:\n",
    "        train_file_path (str): Path to training data file\n",
    "        test_file_path (str): Path to test data file\n",
    "    \n",
    "    Returns:\n",
    "        tuple: Transformed training and test datasets\n",
    "    \"\"\"\n",
    "    try:\n",
    "        # Initialize data transformation\n",
    "        data_transform = DataTransformation()\n",
    "        logger.info(\"Starting data transformation\")\n",
    "        \n",
    "        # Load the ingested data\n",
    "        train_data = np.load(train_file_path)\n",
    "        test_data = np.load(test_file_path)\n",
    "        \n",
    "        # Transform the data\n",
    "        (X_train, y_train), (X_test, y_test) = data_transform.initiate_data_transformation(\n",
    "            train_data, test_data\n",
    "        )\n",
    "        \n",
    "        logger.info(\"Data transformation completed successfully\")\n",
    "        return (X_train, y_train), (X_test, y_test)\n",
    "    \n",
    "    except Exception as e:\n",
    "        logger.error(f\"Data transformation failed: {e}\")\n",
    "        raise CustomException(e, sys)\n",
    "\n",
    "# Perform data transformation\n",
    "((X_train, y_train), (X_test, y_test)) = perform_data_transformation(\n",
    "    ingestion_result['train_file_path'], \n",
    "    ingestion_result['test_file_path']\n",
    ")\n",
    "\n",
    "print(\"Data transformation completed:\")\n",
    "print(f\"X_train shape: {X_train.shape}\")\n",
    "print(f\"y_train shape: {y_train.shape}\")\n",
    "print(f\"X_test shape: {X_test.shape}\")\n",
    "print(f\"y_test shape: {y_test.shape}\")"
   ]
  },
  {
   "cell_type": "markdown",
   "metadata": {},
   "source": [
    "## 3. Data Visualization"
   ]
  },
  {
   "cell_type": "code",
   "execution_count": null,
   "metadata": {},
   "outputs": [],
   "source": [
    "def plot_sample_images(X, y, num_samples=3):\n",
    "    \"\"\"\n",
    "    Visualize sample input sequences and corresponding targets\n",
    "    \n",
    "    Args:\n",
    "        X (np.ndarray): Input sequences\n",
    "        y (np.ndarray): Target sequences\n",
    "        num_samples (int): Number of samples to plot\n",
    "    \"\"\"\n",
    "    try:\n",
    "        fig, axes = plt.subplots(num_samples, 2, figsize=(12, 4*num_samples))\n",
    "        \n",
    "        for i in range(num_samples):\n",
    "            # Plot input sequence (last time step)\n",
    "            axes[i, 0].imshow(X[i, -1, :, :, 0], cmap='viridis')\n",
    "            axes[i, 0].set_title(f'Input Sequence (t={i})')\n",
    "            axes[i, 0].axis('off')\n",
    "            \n",
    "            # Plot target\n",
    "            axes[i, 1].imshow(y[i, 0, :, :, 0], cmap='viridis')\n",
    "            axes[i, 1].set_title(f'Target (t={i+1})')\n",
    "            axes[i, 1].axis('off')\n",
    "        \n",
    "        plt.tight_layout()\n",
    "        plt.show()\n",
    "        \n",
    "        logger.info(\"Sample images plotted successfully\")\n",
    "    \n",
    "    except Exception as e:\n",
    "        logger.error(f\"Image plotting failed: {e}\")\n",
    "        raise CustomException(e, sys)\n",
    "\n",
    "# Plot sample images from training set\n",
    "plot_sample_images(X_train, y_train)"
   ]
  },
  {
   "cell_type": "markdown",
   "metadata": {},
   "source": [
    "## 4. Save Preprocessed Data"
   ]
  },
  {
   "cell_type": "code",
   "execution_count": null,
   "metadata": {},
   "outputs": [],
   "source": [
    "def save_preprocessed_data(X_train, y_train, X_test, y_test, output_dir='artifacts'):\n",
    "    \"\"\"\n",
    "    Save preprocessed data to NumPy files\n",
    "    \n",
    "    Args:\n",
    "        X_train, y_train (np.ndarray): Training data\n",
    "        X_test, y_test (np.ndarray): Test data\n",
    "        output_dir (str): Directory to save preprocessed data\n",
    "    \"\"\"\n",
    "    try:\n",
    "        # Create artifacts directory if it doesn't exist\n",
    "        os.makedirs(output_dir, exist_ok=True)\n",
    "        \n",
    "        # Save preprocessed data\n",
    "        np.save(os.path.join(output_dir, 'X_train.npy'), X_train)\n",
    "        np.save(os.path.join(output_dir, 'y_train.npy'), y_train)\n",
    "        np.save(os.path.join(output_dir, 'X_test.npy'), X_test)\n",
    "        np.save(os.path.join(output_dir, 'y_test.npy'), y_test)\n",
    "        \n",
    "        logger.info(f\"Preprocessed data saved in {output_dir} directory\")\n",
    "        print(f\"Preprocessed data saved in {output_dir} directory\")\n",
    "    \n",
    "    except Exception as e:\n",
    "        logger.error(f\"Failed to save preprocessed data: {e}\")\n",
    "        raise CustomException(e, sys)\n",
    "\n",
    "# Save preprocessed data\n",
    "save_preprocessed_data(X_train, y_train, X_test, y_test)"
   ]
  }
 ],
 "metadata": {
  "kernelspec": {
   "display_name": "Python 3",
   "language": "python",
   "name": "python3"
  },
  "language_info": {
   "codemirror_mode": {
    "name": "ipython",
    "version": 3
   },
   "file_extension": ".py",
   "mimetype": "text/x-python",
   "name": "python",
   "nbconvert_exporter": "python",
   "pygments_lexer": "ipython3",
   "version": "3.8.0"
  }
 },
 "nbformat": 4,
 "nbformat_minor": 4
}
=======
  "cells": [
    {
      "cell_type": "markdown",
      "metadata": {
        "id": "CxFEjKXpR581"
      },
      "source": [
        "# Satellite Image Preprocessing\n",
        "\n",
        "This notebook handles all preprocessing steps for satellite imagery data including:\n",
        "- Data loading and validation\n",
        "- Image normalization\n",
        "- Data augmentation\n",
        "- Feature extraction\n",
        "- Data splitting"
      ]
    },
    {
      "cell_type": "code",
      "source": [
        "from google.colab import drive\n",
        "drive.mount('/content/drive')"
      ],
      "metadata": {
        "id": "8arBLbGySEUo",
        "outputId": "37be5b55-b1d3-4045-f0be-d3f38938dc67",
        "colab": {
          "base_uri": "https://localhost:8080/"
        }
      },
      "execution_count": 1,
      "outputs": [
        {
          "output_type": "stream",
          "name": "stdout",
          "text": [
            "Drive already mounted at /content/drive; to attempt to forcibly remount, call drive.mount(\"/content/drive\", force_remount=True).\n"
          ]
        }
      ]
    },
    {
      "cell_type": "code",
      "source": [
        "# Remove directory and all its contents\n",
        "import os\n",
        "os.system('rm -rf /content/ml-satellite')"
      ],
      "metadata": {
        "colab": {
          "base_uri": "https://localhost:8080/"
        },
        "id": "DHgKo_CayXkp",
        "outputId": "77eee543-c77c-4929-dbf8-6bd180128e97"
      },
      "execution_count": 32,
      "outputs": [
        {
          "output_type": "execute_result",
          "data": {
            "text/plain": [
              "0"
            ]
          },
          "metadata": {},
          "execution_count": 32
        }
      ]
    },
    {
      "cell_type": "code",
      "source": [
        "import os\n",
        "\n",
        "# Change to project directory\n",
        "os.chdir('/content/drive/MyDrive/gabut-project')\n",
        "\n",
        "# Current working directory\n",
        "print(os.getcwd())\n",
        "\n",
        "# Clone the repository\n",
        "!git clone https://github.com/xChoco-rmdn/ml-satellite.git\n",
        "\n",
        "# Change to project directory\n",
        "%cd ml-satellite\n",
        "\n",
        "# Install requirements\n",
        "!pip install -r requirements.txt"
      ],
      "metadata": {
        "collapsed": true,
        "id": "TPHub1rkSyPZ",
        "outputId": "d789a682-515f-4bac-f4c7-f7074ad2374d",
        "colab": {
          "base_uri": "https://localhost:8080/"
        }
      },
      "execution_count": 5,
      "outputs": [
        {
          "output_type": "stream",
          "name": "stdout",
          "text": [
            "/content/drive/MyDrive/gabut-project\n",
            "Cloning into 'ml-satellite'...\n",
            "remote: Enumerating objects: 176, done.\u001b[K\n",
            "remote: Counting objects: 100% (176/176), done.\u001b[K\n",
            "remote: Compressing objects: 100% (132/132), done.\u001b[K\n",
            "remote: Total 176 (delta 76), reused 116 (delta 39), pack-reused 0 (from 0)\u001b[K\n",
            "Receiving objects: 100% (176/176), 23.68 MiB | 12.42 MiB/s, done.\n",
            "Resolving deltas: 100% (76/76), done.\n",
            "/content/drive/MyDrive/gabut-project/ml-satellite\n",
            "Requirement already satisfied: tensorflow>=2.9.0 in /usr/local/lib/python3.11/dist-packages (from -r requirements.txt (line 1)) (2.18.0)\n",
            "Requirement already satisfied: numpy>=1.19.0 in /usr/local/lib/python3.11/dist-packages (from -r requirements.txt (line 2)) (2.0.2)\n",
            "Requirement already satisfied: pandas>=1.3.0 in /usr/local/lib/python3.11/dist-packages (from -r requirements.txt (line 3)) (2.2.2)\n",
            "Requirement already satisfied: matplotlib>=3.5.0 in /usr/local/lib/python3.11/dist-packages (from -r requirements.txt (line 4)) (3.10.0)\n",
            "Requirement already satisfied: scikit-learn>=1.0.0 in /usr/local/lib/python3.11/dist-packages (from -r requirements.txt (line 5)) (1.6.1)\n",
            "Requirement already satisfied: satpy>=0.30.0 in /usr/local/lib/python3.11/dist-packages (from -r requirements.txt (line 6)) (0.56.0)\n",
            "Requirement already satisfied: xarray>=0.20.0 in /usr/local/lib/python3.11/dist-packages (from -r requirements.txt (line 7)) (2025.3.1)\n",
            "Requirement already satisfied: pyyaml>=6.0 in /usr/local/lib/python3.11/dist-packages (from -r requirements.txt (line 8)) (6.0.2)\n",
            "Requirement already satisfied: dill>=0.3.4 in /usr/local/lib/python3.11/dist-packages (from -r requirements.txt (line 9)) (0.3.7)\n",
            "Requirement already satisfied: seaborn>=0.11.0 in /usr/local/lib/python3.11/dist-packages (from -r requirements.txt (line 10)) (0.13.2)\n",
            "Requirement already satisfied: opencv-python>=4.5.0 in /usr/local/lib/python3.11/dist-packages (from -r requirements.txt (line 11)) (4.11.0.86)\n",
            "Requirement already satisfied: scipy>=1.7.0 in /usr/local/lib/python3.11/dist-packages (from -r requirements.txt (line 12)) (1.15.3)\n",
            "Requirement already satisfied: tensorboard>=2.9.0 in /usr/local/lib/python3.11/dist-packages (from -r requirements.txt (line 13)) (2.18.0)\n",
            "Requirement already satisfied: pillow>=8.0.0 in /usr/local/lib/python3.11/dist-packages (from -r requirements.txt (line 14)) (11.2.1)\n",
            "Requirement already satisfied: tqdm>=4.62.0 in /usr/local/lib/python3.11/dist-packages (from -r requirements.txt (line 15)) (4.67.1)\n",
            "Requirement already satisfied: absl-py>=1.0.0 in /usr/local/lib/python3.11/dist-packages (from tensorflow>=2.9.0->-r requirements.txt (line 1)) (1.4.0)\n",
            "Requirement already satisfied: astunparse>=1.6.0 in /usr/local/lib/python3.11/dist-packages (from tensorflow>=2.9.0->-r requirements.txt (line 1)) (1.6.3)\n",
            "Requirement already satisfied: flatbuffers>=24.3.25 in /usr/local/lib/python3.11/dist-packages (from tensorflow>=2.9.0->-r requirements.txt (line 1)) (25.2.10)\n",
            "Requirement already satisfied: gast!=0.5.0,!=0.5.1,!=0.5.2,>=0.2.1 in /usr/local/lib/python3.11/dist-packages (from tensorflow>=2.9.0->-r requirements.txt (line 1)) (0.6.0)\n",
            "Requirement already satisfied: google-pasta>=0.1.1 in /usr/local/lib/python3.11/dist-packages (from tensorflow>=2.9.0->-r requirements.txt (line 1)) (0.2.0)\n",
            "Requirement already satisfied: libclang>=13.0.0 in /usr/local/lib/python3.11/dist-packages (from tensorflow>=2.9.0->-r requirements.txt (line 1)) (18.1.1)\n",
            "Requirement already satisfied: opt-einsum>=2.3.2 in /usr/local/lib/python3.11/dist-packages (from tensorflow>=2.9.0->-r requirements.txt (line 1)) (3.4.0)\n",
            "Requirement already satisfied: packaging in /usr/local/lib/python3.11/dist-packages (from tensorflow>=2.9.0->-r requirements.txt (line 1)) (24.2)\n",
            "Requirement already satisfied: protobuf!=4.21.0,!=4.21.1,!=4.21.2,!=4.21.3,!=4.21.4,!=4.21.5,<6.0.0dev,>=3.20.3 in /usr/local/lib/python3.11/dist-packages (from tensorflow>=2.9.0->-r requirements.txt (line 1)) (5.29.4)\n",
            "Requirement already satisfied: requests<3,>=2.21.0 in /usr/local/lib/python3.11/dist-packages (from tensorflow>=2.9.0->-r requirements.txt (line 1)) (2.32.3)\n",
            "Requirement already satisfied: setuptools in /usr/local/lib/python3.11/dist-packages (from tensorflow>=2.9.0->-r requirements.txt (line 1)) (75.2.0)\n",
            "Requirement already satisfied: six>=1.12.0 in /usr/local/lib/python3.11/dist-packages (from tensorflow>=2.9.0->-r requirements.txt (line 1)) (1.17.0)\n",
            "Requirement already satisfied: termcolor>=1.1.0 in /usr/local/lib/python3.11/dist-packages (from tensorflow>=2.9.0->-r requirements.txt (line 1)) (3.1.0)\n",
            "Requirement already satisfied: typing-extensions>=3.6.6 in /usr/local/lib/python3.11/dist-packages (from tensorflow>=2.9.0->-r requirements.txt (line 1)) (4.13.2)\n",
            "Requirement already satisfied: wrapt>=1.11.0 in /usr/local/lib/python3.11/dist-packages (from tensorflow>=2.9.0->-r requirements.txt (line 1)) (1.17.2)\n",
            "Requirement already satisfied: grpcio<2.0,>=1.24.3 in /usr/local/lib/python3.11/dist-packages (from tensorflow>=2.9.0->-r requirements.txt (line 1)) (1.71.0)\n",
            "Requirement already satisfied: keras>=3.5.0 in /usr/local/lib/python3.11/dist-packages (from tensorflow>=2.9.0->-r requirements.txt (line 1)) (3.8.0)\n",
            "Requirement already satisfied: h5py>=3.11.0 in /usr/local/lib/python3.11/dist-packages (from tensorflow>=2.9.0->-r requirements.txt (line 1)) (3.13.0)\n",
            "Requirement already satisfied: ml-dtypes<0.5.0,>=0.4.0 in /usr/local/lib/python3.11/dist-packages (from tensorflow>=2.9.0->-r requirements.txt (line 1)) (0.4.1)\n",
            "Requirement already satisfied: tensorflow-io-gcs-filesystem>=0.23.1 in /usr/local/lib/python3.11/dist-packages (from tensorflow>=2.9.0->-r requirements.txt (line 1)) (0.37.1)\n",
            "Requirement already satisfied: python-dateutil>=2.8.2 in /usr/local/lib/python3.11/dist-packages (from pandas>=1.3.0->-r requirements.txt (line 3)) (2.9.0.post0)\n",
            "Requirement already satisfied: pytz>=2020.1 in /usr/local/lib/python3.11/dist-packages (from pandas>=1.3.0->-r requirements.txt (line 3)) (2025.2)\n",
            "Requirement already satisfied: tzdata>=2022.7 in /usr/local/lib/python3.11/dist-packages (from pandas>=1.3.0->-r requirements.txt (line 3)) (2025.2)\n",
            "Requirement already satisfied: contourpy>=1.0.1 in /usr/local/lib/python3.11/dist-packages (from matplotlib>=3.5.0->-r requirements.txt (line 4)) (1.3.2)\n",
            "Requirement already satisfied: cycler>=0.10 in /usr/local/lib/python3.11/dist-packages (from matplotlib>=3.5.0->-r requirements.txt (line 4)) (0.12.1)\n",
            "Requirement already satisfied: fonttools>=4.22.0 in /usr/local/lib/python3.11/dist-packages (from matplotlib>=3.5.0->-r requirements.txt (line 4)) (4.58.0)\n",
            "Requirement already satisfied: kiwisolver>=1.3.1 in /usr/local/lib/python3.11/dist-packages (from matplotlib>=3.5.0->-r requirements.txt (line 4)) (1.4.8)\n",
            "Requirement already satisfied: pyparsing>=2.3.1 in /usr/local/lib/python3.11/dist-packages (from matplotlib>=3.5.0->-r requirements.txt (line 4)) (3.2.3)\n",
            "Requirement already satisfied: joblib>=1.2.0 in /usr/local/lib/python3.11/dist-packages (from scikit-learn>=1.0.0->-r requirements.txt (line 5)) (1.5.0)\n",
            "Requirement already satisfied: threadpoolctl>=3.1.0 in /usr/local/lib/python3.11/dist-packages (from scikit-learn>=1.0.0->-r requirements.txt (line 5)) (3.6.0)\n",
            "Requirement already satisfied: dask>=0.17.1 in /usr/local/lib/python3.11/dist-packages (from dask[array]>=0.17.1->satpy>=0.30.0->-r requirements.txt (line 6)) (2024.12.1)\n",
            "Requirement already satisfied: donfig in /usr/local/lib/python3.11/dist-packages (from satpy>=0.30.0->-r requirements.txt (line 6)) (0.8.1.post1)\n",
            "Requirement already satisfied: platformdirs in /usr/local/lib/python3.11/dist-packages (from satpy>=0.30.0->-r requirements.txt (line 6)) (4.3.8)\n",
            "Requirement already satisfied: pooch in /usr/local/lib/python3.11/dist-packages (from satpy>=0.30.0->-r requirements.txt (line 6)) (1.8.2)\n",
            "Requirement already satisfied: pykdtree in /usr/local/lib/python3.11/dist-packages (from satpy>=0.30.0->-r requirements.txt (line 6)) (1.4.1)\n",
            "Requirement already satisfied: pyorbital in /usr/local/lib/python3.11/dist-packages (from satpy>=0.30.0->-r requirements.txt (line 6)) (1.10.1)\n",
            "Requirement already satisfied: pyproj>=2.2 in /usr/local/lib/python3.11/dist-packages (from satpy>=0.30.0->-r requirements.txt (line 6)) (3.7.1)\n",
            "Requirement already satisfied: pyresample>=1.24.0 in /usr/local/lib/python3.11/dist-packages (from satpy>=0.30.0->-r requirements.txt (line 6)) (1.34.0)\n",
            "Requirement already satisfied: trollimage>=1.24 in /usr/local/lib/python3.11/dist-packages (from satpy>=0.30.0->-r requirements.txt (line 6)) (1.26.0)\n",
            "Requirement already satisfied: trollsift in /usr/local/lib/python3.11/dist-packages (from satpy>=0.30.0->-r requirements.txt (line 6)) (0.5.3)\n",
            "Requirement already satisfied: zarr in /usr/local/lib/python3.11/dist-packages (from satpy>=0.30.0->-r requirements.txt (line 6)) (3.0.7)\n",
            "Requirement already satisfied: markdown>=2.6.8 in /usr/local/lib/python3.11/dist-packages (from tensorboard>=2.9.0->-r requirements.txt (line 13)) (3.8)\n",
            "Requirement already satisfied: tensorboard-data-server<0.8.0,>=0.7.0 in /usr/local/lib/python3.11/dist-packages (from tensorboard>=2.9.0->-r requirements.txt (line 13)) (0.7.2)\n",
            "Requirement already satisfied: werkzeug>=1.0.1 in /usr/local/lib/python3.11/dist-packages (from tensorboard>=2.9.0->-r requirements.txt (line 13)) (3.1.3)\n",
            "Requirement already satisfied: wheel<1.0,>=0.23.0 in /usr/local/lib/python3.11/dist-packages (from astunparse>=1.6.0->tensorflow>=2.9.0->-r requirements.txt (line 1)) (0.45.1)\n",
            "Requirement already satisfied: click>=8.1 in /usr/local/lib/python3.11/dist-packages (from dask>=0.17.1->dask[array]>=0.17.1->satpy>=0.30.0->-r requirements.txt (line 6)) (8.2.0)\n",
            "Requirement already satisfied: cloudpickle>=3.0.0 in /usr/local/lib/python3.11/dist-packages (from dask>=0.17.1->dask[array]>=0.17.1->satpy>=0.30.0->-r requirements.txt (line 6)) (3.1.1)\n",
            "Requirement already satisfied: fsspec>=2021.09.0 in /usr/local/lib/python3.11/dist-packages (from dask>=0.17.1->dask[array]>=0.17.1->satpy>=0.30.0->-r requirements.txt (line 6)) (2025.3.2)\n",
            "Requirement already satisfied: partd>=1.4.0 in /usr/local/lib/python3.11/dist-packages (from dask>=0.17.1->dask[array]>=0.17.1->satpy>=0.30.0->-r requirements.txt (line 6)) (1.4.2)\n",
            "Requirement already satisfied: toolz>=0.10.0 in /usr/local/lib/python3.11/dist-packages (from dask>=0.17.1->dask[array]>=0.17.1->satpy>=0.30.0->-r requirements.txt (line 6)) (0.12.1)\n",
            "Requirement already satisfied: importlib_metadata>=4.13.0 in /usr/local/lib/python3.11/dist-packages (from dask>=0.17.1->dask[array]>=0.17.1->satpy>=0.30.0->-r requirements.txt (line 6)) (8.7.0)\n",
            "Requirement already satisfied: rich in /usr/local/lib/python3.11/dist-packages (from keras>=3.5.0->tensorflow>=2.9.0->-r requirements.txt (line 1)) (13.9.4)\n",
            "Requirement already satisfied: namex in /usr/local/lib/python3.11/dist-packages (from keras>=3.5.0->tensorflow>=2.9.0->-r requirements.txt (line 1)) (0.0.9)\n",
            "Requirement already satisfied: optree in /usr/local/lib/python3.11/dist-packages (from keras>=3.5.0->tensorflow>=2.9.0->-r requirements.txt (line 1)) (0.15.0)\n",
            "Requirement already satisfied: certifi in /usr/local/lib/python3.11/dist-packages (from pyproj>=2.2->satpy>=0.30.0->-r requirements.txt (line 6)) (2025.4.26)\n",
            "Requirement already satisfied: configobj in /usr/local/lib/python3.11/dist-packages (from pyresample>=1.24.0->satpy>=0.30.0->-r requirements.txt (line 6)) (5.0.9)\n",
            "Requirement already satisfied: shapely in /usr/local/lib/python3.11/dist-packages (from pyresample>=1.24.0->satpy>=0.30.0->-r requirements.txt (line 6)) (2.1.0)\n",
            "Requirement already satisfied: charset-normalizer<4,>=2 in /usr/local/lib/python3.11/dist-packages (from requests<3,>=2.21.0->tensorflow>=2.9.0->-r requirements.txt (line 1)) (3.4.2)\n",
            "Requirement already satisfied: idna<4,>=2.5 in /usr/local/lib/python3.11/dist-packages (from requests<3,>=2.21.0->tensorflow>=2.9.0->-r requirements.txt (line 1)) (3.10)\n",
            "Requirement already satisfied: urllib3<3,>=1.21.1 in /usr/local/lib/python3.11/dist-packages (from requests<3,>=2.21.0->tensorflow>=2.9.0->-r requirements.txt (line 1)) (2.4.0)\n",
            "Requirement already satisfied: MarkupSafe>=2.1.1 in /usr/local/lib/python3.11/dist-packages (from werkzeug>=1.0.1->tensorboard>=2.9.0->-r requirements.txt (line 13)) (3.0.2)\n",
            "Requirement already satisfied: defusedxml in /usr/local/lib/python3.11/dist-packages (from pyorbital->satpy>=0.30.0->-r requirements.txt (line 6)) (0.7.1)\n",
            "Requirement already satisfied: numcodecs>=0.14 in /usr/local/lib/python3.11/dist-packages (from numcodecs[crc32c]>=0.14->zarr->satpy>=0.30.0->-r requirements.txt (line 6)) (0.16.0)\n",
            "Requirement already satisfied: zipp>=3.20 in /usr/local/lib/python3.11/dist-packages (from importlib_metadata>=4.13.0->dask>=0.17.1->dask[array]>=0.17.1->satpy>=0.30.0->-r requirements.txt (line 6)) (3.21.0)\n",
            "Requirement already satisfied: crc32c>=2.7 in /usr/local/lib/python3.11/dist-packages (from numcodecs[crc32c]>=0.14->zarr->satpy>=0.30.0->-r requirements.txt (line 6)) (2.7.1)\n",
            "Requirement already satisfied: locket in /usr/local/lib/python3.11/dist-packages (from partd>=1.4.0->dask>=0.17.1->dask[array]>=0.17.1->satpy>=0.30.0->-r requirements.txt (line 6)) (1.0.0)\n",
            "Requirement already satisfied: markdown-it-py>=2.2.0 in /usr/local/lib/python3.11/dist-packages (from rich->keras>=3.5.0->tensorflow>=2.9.0->-r requirements.txt (line 1)) (3.0.0)\n",
            "Requirement already satisfied: pygments<3.0.0,>=2.13.0 in /usr/local/lib/python3.11/dist-packages (from rich->keras>=3.5.0->tensorflow>=2.9.0->-r requirements.txt (line 1)) (2.19.1)\n",
            "Requirement already satisfied: mdurl~=0.1 in /usr/local/lib/python3.11/dist-packages (from markdown-it-py>=2.2.0->rich->keras>=3.5.0->tensorflow>=2.9.0->-r requirements.txt (line 1)) (0.1.2)\n"
          ]
        }
      ]
    },
    {
      "cell_type": "code",
      "source": [
        "print(os.getcwd())"
      ],
      "metadata": {
        "colab": {
          "base_uri": "https://localhost:8080/"
        },
        "id": "htuUfcXszhp_",
        "outputId": "21f64566-f14f-4c96-8b5c-0ce6ad582006"
      },
      "execution_count": 6,
      "outputs": [
        {
          "output_type": "stream",
          "name": "stdout",
          "text": [
            "/content/drive/MyDrive/gabut-project/ml-satellite\n"
          ]
        }
      ]
    },
    {
      "cell_type": "code",
      "execution_count": 7,
      "metadata": {
        "id": "RjFz4lIfR582"
      },
      "source": [
        "import os\n",
        "import sys\n",
        "import numpy as np\n",
        "from pathlib import Path\n",
        "from datetime import datetime"
      ],
      "outputs": []
    },
    {
      "cell_type": "code",
      "source": [
        "# Add the project root directory to Python path\n",
        "project_root = str(Path(\"/content/ml-satellite\").parent.parent)\n",
        "sys.path.append(project_root)"
      ],
      "metadata": {
        "id": "zroXhD-eklc8"
      },
      "execution_count": 8,
      "outputs": []
    },
    {
      "cell_type": "code",
      "source": [
        "from src.components.data_ingestion import DataIngestion\n",
        "from src.components.data_transformations import DataTransformation\n",
        "from src.logger import logger\n",
        "from src.exception import CustomException"
      ],
      "metadata": {
        "id": "HaPRbj0dkoSp"
      },
      "execution_count": 10,
      "outputs": []
    },
    {
      "cell_type": "markdown",
      "metadata": {
        "id": "HjsPU2gvR583"
      },
      "source": [
        "## 1. Data Loading and Exploration"
      ]
    },
    {
      "cell_type": "code",
      "execution_count": 11,
      "metadata": {
        "id": "xqQ0W7bqR583"
      },
      "source": [
        "def setup_directories():\n",
        "    \"\"\"Create necessary directories if they don't exist\"\"\"\n",
        "    directories = [\n",
        "        '/content/drive/MyDrive/Himawari_NTB_202504',\n",
        "        'data/processed',\n",
        "        'data/train',\n",
        "        'data/test',\n",
        "        'artifacts',\n",
        "        'logs'\n",
        "    ]\n",
        "    for directory in directories:\n",
        "        os.makedirs(directory, exist_ok=True)\n",
        "        print(f\"Created directory: {directory}\")"
      ],
      "outputs": []
    },
    {
      "cell_type": "code",
      "source": [
        "def reshape_data_for_sequences_xy_nonoverlap(data, sequence_length=6):\n",
        "    \"\"\"Create X, y pairs for sequence prediction using non-overlapping windows.\"\"\"\n",
        "    n_samples = (len(data) - sequence_length) // sequence_length\n",
        "    X = np.zeros((n_samples, sequence_length, data.shape[1], data.shape[2], 1))\n",
        "    y = np.zeros((n_samples, sequence_length, data.shape[1], data.shape[2], 1))\n",
        "    for i in range(n_samples):\n",
        "        start = i * sequence_length\n",
        "        end = start + sequence_length\n",
        "        X[i] = data[start:end, :, :, np.newaxis]\n",
        "        y[i] = data[start+1:end+1, :, :, np.newaxis]\n",
        "    return X, y\n",
        "\n",
        "def center_crop(data, target_height=256, target_width=256):\n",
        "    \"\"\"Crop the center of each frame in the data to the target size.\"\"\"\n",
        "    cropped = []\n",
        "    for frame in data:\n",
        "        h, w = frame.shape\n",
        "        start_h = (h - target_height) // 2\n",
        "        start_w = (w - target_width) // 2\n",
        "        cropped.append(frame[start_h:start_h+target_height, start_w:start_w+target_width])\n",
        "    return np.stack(cropped)"
      ],
      "metadata": {
        "id": "69ORPaErleUt"
      },
      "execution_count": 12,
      "outputs": []
    },
    {
      "cell_type": "markdown",
      "metadata": {
        "id": "oRNgivFtR583"
      },
      "source": [
        "## 2. Data Preprocessing"
      ]
    },
    {
      "cell_type": "code",
      "source": [
        "setup_directories()\n",
        "\n",
        "# Initialize components\n",
        "data_ingestion = DataIngestion()\n",
        "data_transformation = DataTransformation()\n",
        "\n",
        "# Get list of satellite files\n",
        "raw_data_path = os.path.join('/content/drive/MyDrive', 'Himawari_NTB_202504')\n",
        "satellite_files = [os.path.join(raw_data_path, f) for f in os.listdir(raw_data_path) if f.endswith('.nc')]\n",
        "if not satellite_files:\n",
        "    print(\"No satellite files found in data/raw directory\", sys)"
      ],
      "metadata": {
        "id": "pI_2nMQtmAHe"
      },
      "execution_count": 13,
      "outputs": []
    },
    {
      "cell_type": "code",
      "source": [
        "print(os.getcwd())"
      ],
      "metadata": {
        "colab": {
          "base_uri": "https://localhost:8080/"
        },
        "id": "uswS_gNjz19L",
        "outputId": "48994701-3c39-4627-9716-9dfedf82df23"
      },
      "execution_count": 14,
      "outputs": [
        {
          "output_type": "stream",
          "name": "stdout",
          "text": [
            "/content/drive/MyDrive/gabut-project/ml-satellite\n"
          ]
        }
      ]
    },
    {
      "cell_type": "code",
      "execution_count": null,
      "metadata": {
        "id": "qg5H87HaR583",
        "colab": {
          "base_uri": "https://localhost:8080/"
        },
        "outputId": "facef142-ba91-46c9-c032-2fa0bd9f1ab3"
      },
      "source": [
        "# Process and ingest data\n",
        "print(\"Starting data ingestion...\")\n",
        "ingestion_result = data_ingestion.initiate_data_ingestion(satellite_files)\n",
        "\n",
        "# Load the processed data\n",
        "train_data = np.load(ingestion_result['train_file_path'])\n",
        "test_data = np.load(ingestion_result['test_file_path'])\n",
        "print(f\"Loaded training data shape: {train_data.shape}\")\n",
        "print(f\"Loaded test data shape: {test_data.shape}\")\n",
        "\n",
        "# Clean and normalize data\n",
        "print(\"Cleaning and normalizing data...\")\n",
        "train_data = data_transformation.clean_data(train_data)\n",
        "test_data = data_transformation.clean_data(test_data)\n",
        "\n",
        "train_data = data_transformation.normalize_data(train_data)\n",
        "test_data = data_transformation.normalize_data(test_data)\n",
        "\n",
        "# Crop data\n",
        "print(\"Cropping data...\")\n",
        "train_data = center_crop(train_data, 256, 256)\n",
        "test_data = center_crop(test_data, 256, 256)\n",
        "\n",
        "# Create sequences\n",
        "print(\"Creating sequences...\")\n",
        "sequence_length = data_transformation.config.sequence_length\n",
        "\n",
        "X_train, y_train = reshape_data_for_sequences_xy_nonoverlap(train_data, sequence_length)\n",
        "X_test, y_test = reshape_data_for_sequences_xy_nonoverlap(test_data, sequence_length)\n",
        "\n",
        "# Save transformed data\n",
        "print(\"Saving transformed data...\")\n",
        "np.save('data/processed/X_train.npy', X_train)\n",
        "np.save('data/processed/y_train.npy', y_train)\n",
        "np.save('data/processed/X_test.npy', X_test)\n",
        "np.save('data/processed/y_test.npy', y_test)\n",
        "\n",
        "print(\"Preprocessing completed successfully!\")\n",
        "print(f\"Transformed data shapes:\")\n",
        "print(f\"X_train: {X_train.shape}, y_train: {y_train.shape}\")\n",
        "print(f\"X_test: {X_test.shape}, y_test: {y_test.shape}\")\n"
      ],
      "outputs": [
        {
          "output_type": "stream",
          "name": "stdout",
          "text": [
            "Starting data ingestion...\n",
            "Loaded training data shape: (3359, 271, 351)\n",
            "Loaded test data shape: (840, 271, 351)\n",
            "Cleaning and normalizing data...\n"
          ]
        }
      ]
    }
  ],
  "metadata": {
    "kernelspec": {
      "display_name": "Python 3",
      "name": "python3"
    },
    "language_info": {
      "codemirror_mode": {
        "name": "ipython",
        "version": 3
      },
      "file_extension": ".py",
      "mimetype": "text/x-python",
      "name": "python",
      "nbconvert_exporter": "python",
      "pygments_lexer": "ipython3",
      "version": "3.8.0"
    },
    "colab": {
      "provenance": [],
      "gpuType": "T4"
    },
    "accelerator": "GPU"
  },
  "nbformat": 4,
  "nbformat_minor": 0
}
>>>>>>> 6144e8f4880eb6fd59e808d4415475003a22c13d
